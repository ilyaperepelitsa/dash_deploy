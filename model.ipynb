{
 "cells": [
  {
   "cell_type": "code",
   "execution_count": 7,
   "metadata": {},
   "outputs": [],
   "source": [
    "import pandas as pd\n",
    "import numpy as np\n",
    "\n",
    "from math import sqrt\n",
    "from numpy import split\n",
    "from numpy import array\n",
    "from pandas import read_csv\n",
    "from sklearn.metrics import mean_squared_error\n",
    "from matplotlib import pyplot\n",
    "from sklearn.preprocessing import StandardScaler\n",
    "from sklearn.preprocessing import MinMaxScaler\n",
    "from sklearn.pipeline import Pipeline\n",
    "from sklearn.linear_model import LinearRegression\n",
    "from sklearn.linear_model import Lasso\n",
    "from sklearn.linear_model import Ridge\n",
    "from sklearn.linear_model import ElasticNet\n",
    "from sklearn.linear_model import HuberRegressor\n",
    "from sklearn.linear_model import Lars\n",
    "from sklearn.linear_model import LassoLars\n",
    "from sklearn.linear_model import PassiveAggressiveRegressor\n",
    "from sklearn.linear_model import RANSACRegressor\n",
    "from sklearn.linear_model import SGDRegressor"
   ]
  },
  {
   "cell_type": "code",
   "execution_count": 198,
   "metadata": {},
   "outputs": [],
   "source": [
    "final_daily = pd.read_csv('dash_app/data/resampled/final_daily.csv')\n",
    "# final_daily['Datetime'] = pd.to_datetime(final_daily.loc[:,'Datetime'], infer_datetime_format=True)\n",
    "# final_daily = final_daily.set_index('Datetime')\n",
    "final_daily = final_daily.drop('Datetime', axis = 1)"
   ]
  },
  {
   "cell_type": "code",
   "execution_count": 199,
   "metadata": {},
   "outputs": [],
   "source": [
    "lag_cols = final_daily.columns\n",
    "LAG = 5\n",
    "for i in range(1, LAG):\n",
    "    for col in lag_cols:\n",
    "        final_daily[col + '__' + str(i)] = final_daily[col].shift(i)\n",
    "#         print(df_lag.shape)"
   ]
  },
  {
   "cell_type": "code",
   "execution_count": 200,
   "metadata": {},
   "outputs": [],
   "source": [
    "final_daily = final_daily.fillna(final_daily.mean)"
   ]
  },
  {
   "cell_type": "code",
   "execution_count": 174,
   "metadata": {},
   "outputs": [],
   "source": [
    "def split_data(data):\n",
    "    train, test = data[4:data.shape[0] - 210], data[data.shape[0] - 210:data.shape[0]]\n",
    "    train = array(split(train, int(len(train)/7)))\n",
    "    test = array(split(test, int(len(test)/7)))\n",
    "    return train, test"
   ]
  },
  {
   "cell_type": "code",
   "execution_count": null,
   "metadata": {},
   "outputs": [],
   "source": []
  },
  {
   "cell_type": "code",
   "execution_count": 175,
   "metadata": {},
   "outputs": [],
   "source": [
    "# def eval_forecast(actual, predicted):\n",
    "#     scores = []\n",
    "#     for i in range(actual.shape[1]):\n",
    "#         mse = mean_squared_error(actual[:, i], predicted[:, i])\n",
    "#         rmse = sqrt(mse)\n",
    "#         scores.append(rmse)\n",
    "#     s = 0\n",
    "#     for row in range(actual.shape[0]):\n",
    "#         for col in range(actual.shape[1]):\n",
    "#             s += (actual[row, col] - predicted[row, col])**2\n",
    "#     score = sqrt(s / (actual.shape[0] * actual.shape[1]))\n",
    "#     return score, scores"
   ]
  },
  {
   "cell_type": "code",
   "execution_count": 143,
   "metadata": {},
   "outputs": [],
   "source": [
    "def evaluate_forecasts(actual, predicted):\n",
    "    scores = list()\n",
    "    for i in range(actual.shape[1]):\n",
    "        mse = mean_squared_error(actual[:, i], predicted[:, i])\n",
    "        rmse = sqrt(mse)\n",
    "        scores.append(rmse)\n",
    "    s = 0\n",
    "    for row in range(actual.shape[0]):\n",
    "        for col in range(actual.shape[1]):\n",
    "            s += (actual[row, col] - predicted[row, col])**2\n",
    "    score = sqrt(s / (actual.shape[0] * actual.shape[1]))\n",
    "    return score, scores"
   ]
  },
  {
   "cell_type": "code",
   "execution_count": 144,
   "metadata": {},
   "outputs": [],
   "source": [
    "def summarize_scores(name, score, scores):\n",
    "    s_scores = ', '.join(['%.1f' % s for s in scores])\n",
    "    print('%s: [%.3f] %s' % (name, score, s_scores))"
   ]
  },
  {
   "cell_type": "code",
   "execution_count": 157,
   "metadata": {},
   "outputs": [],
   "source": [
    "def get_models(models=dict()):\n",
    "    models['lr'] = LinearRegression()\n",
    "    models['lasso'] = Lasso()\n",
    "    models['ridge'] = Ridge()\n",
    "    models['en'] = ElasticNet()\n",
    "    models['huber'] = HuberRegressor()\n",
    "    models['lars'] = Lars()\n",
    "    models['llars'] = LassoLars()\n",
    "#     models['pa'] = PassiveAggressiveRegressor(max_iter=1000, tol=1e-3)\n",
    "    models['ranscac'] = RANSACRegressor()\n",
    "#     models['sgd'] = SGDRegressor(max_iter=1000, tol=1e-3)\n",
    "    return models"
   ]
  },
  {
   "cell_type": "code",
   "execution_count": 158,
   "metadata": {},
   "outputs": [],
   "source": [
    "def make_pipeline(model):\n",
    "    steps = list()\n",
    "#     steps.append(('standardize', StandardScaler()))\n",
    "#     steps.append(('normalize', MinMaxScaler()))\n",
    "    steps.append(('model', model))\n",
    "    pipeline = Pipeline(steps=steps)\n",
    "    return pipeline"
   ]
  },
  {
   "cell_type": "code",
   "execution_count": 159,
   "metadata": {},
   "outputs": [],
   "source": [
    "def forecast(model, input_x, n_input):\n",
    "    yhat_sequence = list()\n",
    "    input_data = [x for x in input_x]\n",
    "    for j in range(7):\n",
    "        X = array(input_data[-n_input:]).reshape(1, n_input)\n",
    "        yhat = model.predict(X)[0]\n",
    "        yhat_sequence.append(yhat)\n",
    "        input_data.append(yhat)\n",
    "#     print(len(yhat_sequence))\n",
    "    return yhat_sequence"
   ]
  },
  {
   "cell_type": "code",
   "execution_count": 160,
   "metadata": {},
   "outputs": [],
   "source": [
    "def to_series(data):\n",
    "    series = [week[:, 0] for week in data]\n",
    "    series = array(series).flatten()\n",
    "    return series"
   ]
  },
  {
   "cell_type": "code",
   "execution_count": 161,
   "metadata": {},
   "outputs": [],
   "source": [
    "def to_supervised(history, n_input):\n",
    "    data = to_series(history)\n",
    "    X, y = list(), list()\n",
    "    ix_start = 0\n",
    "    for i in range(len(data)):\n",
    "        ix_end = ix_start + n_input\n",
    "        if ix_end < len(data):\n",
    "            X.append(data[ix_start:ix_end])\n",
    "            y.append(data[ix_end])\n",
    "        ix_start += 1\n",
    "    return array(X), array(y)"
   ]
  },
  {
   "cell_type": "code",
   "execution_count": 162,
   "metadata": {},
   "outputs": [],
   "source": [
    "def sklearn_predict(model, history, n_input):\n",
    "    train_x, train_y = to_supervised(history, n_input)\n",
    "    pipeline = make_pipeline(model)\n",
    "    pipeline.fit(train_x, train_y)\n",
    "    yhat_sequence = forecast(pipeline, train_x[-1, :], n_input)\n",
    "    return yhat_sequence"
   ]
  },
  {
   "cell_type": "code",
   "execution_count": 163,
   "metadata": {},
   "outputs": [],
   "source": [
    "def evaluate_model(model, train, test, n_input):\n",
    "    history = [x for x in train]\n",
    "    predictions = list()\n",
    "    for i in range(len(test)):\n",
    "        yhat_sequence = sklearn_predict(model, history, n_input)\n",
    "        predictions.append(yhat_sequence)\n",
    "        history.append(test[i, :])\n",
    "    predictions = array(predictions)\n",
    "    score, scores = evaluate_forecasts(test[:, :, 0], predictions)\n",
    "    return score, scores"
   ]
  },
  {
   "cell_type": "code",
   "execution_count": 201,
   "metadata": {},
   "outputs": [],
   "source": [
    "train, test = split_data(final_daily.values)"
   ]
  },
  {
   "cell_type": "code",
   "execution_count": 202,
   "metadata": {},
   "outputs": [],
   "source": [
    "models = get_models()"
   ]
  },
  {
   "cell_type": "code",
   "execution_count": 203,
   "metadata": {},
   "outputs": [],
   "source": [
    "n_input = 7"
   ]
  },
  {
   "cell_type": "code",
   "execution_count": 204,
   "metadata": {},
   "outputs": [],
   "source": [
    "days = range(0,7)"
   ]
  },
  {
   "cell_type": "code",
   "execution_count": 212,
   "metadata": {},
   "outputs": [
    {
     "name": "stdout",
     "output_type": "stream",
     "text": [
      "lr: [5.018] 5.7, 5.4, 4.3, 4.5, 5.3, 5.2, 4.6\n",
      "lasso: [5.004] 5.7, 5.3, 4.3, 4.5, 5.3, 5.1, 4.6\n",
      "ridge: [5.018] 5.7, 5.4, 4.3, 4.5, 5.3, 5.2, 4.6\n",
      "en: [5.006] 5.6, 5.3, 4.3, 4.5, 5.3, 5.2, 4.6\n",
      "huber: [5.067] 5.7, 5.5, 4.2, 4.4, 5.5, 5.2, 4.7\n",
      "lars: [5.018] 5.7, 5.4, 4.3, 4.5, 5.3, 5.2, 4.6\n",
      "llars: [6.504] 7.4, 6.3, 6.5, 6.2, 6.5, 6.3, 6.1\n",
      "ranscac: [6.343] 6.3, 6.2, 5.5, 5.2, 6.7, 7.2, 7.1\n"
     ]
    },
    {
     "data": {
      "image/png": "[encoded data removed]",
      "text/plain": [
       "<Figure size 432x288 with 1 Axes>"
      ]
     },
     "metadata": {},
     "output_type": "display_data"
    }
   ],
   "source": [
    "trains = []\n",
    "tests = []\n",
    "for name, model in models.items():\n",
    "    trains.append(train)\n",
    "    tests.append(test)\n",
    "    score, scores = evaluate_model(model, train, test, n_input)\n",
    "    summarize_scores(name, score, scores)\n",
    "    pyplot.plot(days, scores, marker='o', label=name)"
   ]
  },
  {
   "cell_type": "code",
   "execution_count": 211,
   "metadata": {},
   "outputs": [
    {
     "data": {
      "text/plain": [
       "(121, 7, 35)"
      ]
     },
     "execution_count": 211,
     "metadata": {},
     "output_type": "execute_result"
    }
   ],
   "source": [
    "trains[0].shape"
   ]
  },
  {
   "cell_type": "code",
   "execution_count": 213,
   "metadata": {},
   "outputs": [
    {
     "data": {
      "text/plain": [
       "(30, 7, 35)"
      ]
     },
     "execution_count": 213,
     "metadata": {},
     "output_type": "execute_result"
    }
   ],
   "source": [
    "tests[0].shape"
   ]
  },
  {
   "cell_type": "code",
   "execution_count": null,
   "metadata": {},
   "outputs": [],
   "source": []
  }
 ],
 "metadata": {
  "kernelspec": {
   "display_name": "Python 3",
   "language": "python",
   "name": "python3"
  },
  "language_info": {
   "codemirror_mode": {
    "name": "ipython",
    "version": 3
   },
   "file_extension": ".py",
   "mimetype": "text/x-python",
   "name": "python",
   "nbconvert_exporter": "python",
   "pygments_lexer": "ipython3",
   "version": "3.6.5"
  }
 },
 "nbformat": 4,
 "nbformat_minor": 2
}
