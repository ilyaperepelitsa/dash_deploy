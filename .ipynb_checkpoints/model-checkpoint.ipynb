{
 "cells": [
  {
   "cell_type": "code",
   "execution_count": 7,
   "metadata": {},
   "outputs": [],
   "source": [
    "import pandas as pd\n",
    "import numpy as np\n",
    "\n",
    "from math import sqrt\n",
    "from numpy import split\n",
    "from numpy import array\n",
    "from pandas import read_csv\n",
    "from sklearn.metrics import mean_squared_error\n",
    "from matplotlib import pyplot\n",
    "from sklearn.preprocessing import StandardScaler\n",
    "from sklearn.preprocessing import MinMaxScaler\n",
    "from sklearn.pipeline import Pipeline\n",
    "from sklearn.linear_model import LinearRegression\n",
    "from sklearn.linear_model import Lasso\n",
    "from sklearn.linear_model import Ridge\n",
    "from sklearn.linear_model import ElasticNet\n",
    "from sklearn.linear_model import HuberRegressor\n",
    "from sklearn.linear_model import Lars\n",
    "from sklearn.linear_model import LassoLars\n",
    "from sklearn.linear_model import PassiveAggressiveRegressor\n",
    "from sklearn.linear_model import RANSACRegressor\n",
    "from sklearn.linear_model import SGDRegressor"
   ]
  },
  {
   "cell_type": "code",
   "execution_count": 114,
   "metadata": {},
   "outputs": [],
   "source": [
    "final_daily = pd.read_csv('dash_app/data/resampled/final_daily.csv')\n",
    "# final_daily['Datetime'] = pd.to_datetime(final_daily.loc[:,'Datetime'], infer_datetime_format=True)\n",
    "# final_daily = final_daily.set_index('Datetime')\n",
    "final_daily = final_daily.drop('Datetime', axis = 1)"
   ]
  },
  {
   "cell_type": "code",
   "execution_count": 115,
   "metadata": {},
   "outputs": [
    {
     "data": {
      "text/html": [
       "<div>\n",
       "<style scoped>\n",
       "    .dataframe tbody tr th:only-of-type {\n",
       "        vertical-align: middle;\n",
       "    }\n",
       "\n",
       "    .dataframe tbody tr th {\n",
       "        vertical-align: top;\n",
       "    }\n",
       "\n",
       "    .dataframe thead th {\n",
       "        text-align: right;\n",
       "    }\n",
       "</style>\n",
       "<table border=\"1\" class=\"dataframe\">\n",
       "  <thead>\n",
       "    <tr style=\"text-align: right;\">\n",
       "      <th></th>\n",
       "      <th>Global_active_power</th>\n",
       "      <th>Global_reactive_power</th>\n",
       "      <th>Voltage</th>\n",
       "      <th>Global_intensity</th>\n",
       "      <th>Sub_metering_1</th>\n",
       "      <th>Sub_metering_2</th>\n",
       "      <th>Sub_metering_3</th>\n",
       "    </tr>\n",
       "  </thead>\n",
       "  <tbody>\n",
       "    <tr>\n",
       "      <th>0</th>\n",
       "      <td>43.792210</td>\n",
       "      <td>2.285558</td>\n",
       "      <td>241.120763</td>\n",
       "      <td>7.583157</td>\n",
       "      <td>2.266184</td>\n",
       "      <td>1.716370</td>\n",
       "      <td>12.295004</td>\n",
       "    </tr>\n",
       "    <tr>\n",
       "      <th>1</th>\n",
       "      <td>26.041237</td>\n",
       "      <td>1.866768</td>\n",
       "      <td>242.419687</td>\n",
       "      <td>4.534757</td>\n",
       "      <td>-0.101629</td>\n",
       "      <td>2.260580</td>\n",
       "      <td>9.025274</td>\n",
       "    </tr>\n",
       "    <tr>\n",
       "      <th>2</th>\n",
       "      <td>24.301288</td>\n",
       "      <td>2.015690</td>\n",
       "      <td>243.135203</td>\n",
       "      <td>4.246715</td>\n",
       "      <td>0.836462</td>\n",
       "      <td>0.389251</td>\n",
       "      <td>6.750360</td>\n",
       "    </tr>\n",
       "    <tr>\n",
       "      <th>3</th>\n",
       "      <td>34.680132</td>\n",
       "      <td>2.173873</td>\n",
       "      <td>241.355827</td>\n",
       "      <td>6.092092</td>\n",
       "      <td>0.944367</td>\n",
       "      <td>3.578682</td>\n",
       "      <td>11.440072</td>\n",
       "    </tr>\n",
       "    <tr>\n",
       "      <th>4</th>\n",
       "      <td>34.395330</td>\n",
       "      <td>2.130189</td>\n",
       "      <td>238.947434</td>\n",
       "      <td>6.086967</td>\n",
       "      <td>1.689901</td>\n",
       "      <td>0.070678</td>\n",
       "      <td>14.447002</td>\n",
       "    </tr>\n",
       "  </tbody>\n",
       "</table>\n",
       "</div>"
      ],
      "text/plain": [
       "   Global_active_power  Global_reactive_power     Voltage  Global_intensity  \\\n",
       "0            43.792210               2.285558  241.120763          7.583157   \n",
       "1            26.041237               1.866768  242.419687          4.534757   \n",
       "2            24.301288               2.015690  243.135203          4.246715   \n",
       "3            34.680132               2.173873  241.355827          6.092092   \n",
       "4            34.395330               2.130189  238.947434          6.086967   \n",
       "\n",
       "   Sub_metering_1  Sub_metering_2  Sub_metering_3  \n",
       "0        2.266184        1.716370       12.295004  \n",
       "1       -0.101629        2.260580        9.025274  \n",
       "2        0.836462        0.389251        6.750360  \n",
       "3        0.944367        3.578682       11.440072  \n",
       "4        1.689901        0.070678       14.447002  "
      ]
     },
     "execution_count": 115,
     "metadata": {},
     "output_type": "execute_result"
    }
   ],
   "source": [
    "lag_cols = final_daily.columns\n",
    "for i in range(1, LAG):\n",
    "    for col in lag_cols:\n",
    "        df_lag[col + '__' + str(i)] = df_lag[col].shift(i)\n",
    "        print(df_lag.shape)"
   ]
  },
  {
   "cell_type": "code",
   "execution_count": 124,
   "metadata": {},
   "outputs": [],
   "source": [
    "def split_data(data):\n",
    "    train, test = data[4:data.shape[0] - 210], data[data.shape[0] - 210:data.shape[0]]\n",
    "    train = array(split(train, int(len(train)/7)))\n",
    "    test = array(split(test, int(len(test)/7)))\n",
    "    return train, test"
   ]
  },
  {
   "cell_type": "code",
   "execution_count": null,
   "metadata": {},
   "outputs": [],
   "source": []
  },
  {
   "cell_type": "code",
   "execution_count": 89,
   "metadata": {},
   "outputs": [],
   "source": [
    "# def eval_forecast(actual, predicted):\n",
    "#     scores = []\n",
    "#     for i in range(actual.shape[1]):\n",
    "#         mse = mean_squared_error(actual[:, i], predicted[:, i])\n",
    "#         rmse = sqrt(mse)\n",
    "#         scores.append(rmse)\n",
    "#     s = 0\n",
    "#     for row in range(actual.shape[0]):\n",
    "#         for col in range(actual.shape[1]):\n",
    "#             s += (actual[row, col] - predicted[row, col])**2\n",
    "#     score = sqrt(s / (actual.shape[0] * actual.shape[1]))\n",
    "#     return score, scores"
   ]
  },
  {
   "cell_type": "code",
   "execution_count": 143,
   "metadata": {},
   "outputs": [],
   "source": [
    "def evaluate_forecasts(actual, predicted):\n",
    "    scores = list()\n",
    "    for i in range(actual.shape[1]):\n",
    "        mse = mean_squared_error(actual[:, i], predicted[:, i])\n",
    "        rmse = sqrt(mse)\n",
    "        scores.append(rmse)\n",
    "    s = 0\n",
    "    for row in range(actual.shape[0]):\n",
    "        for col in range(actual.shape[1]):\n",
    "            s += (actual[row, col] - predicted[row, col])**2\n",
    "    score = sqrt(s / (actual.shape[0] * actual.shape[1]))\n",
    "    return score, scores"
   ]
  },
  {
   "cell_type": "code",
   "execution_count": 144,
   "metadata": {},
   "outputs": [],
   "source": [
    "def summarize_scores(name, score, scores):\n",
    "    s_scores = ', '.join(['%.1f' % s for s in scores])\n",
    "    print('%s: [%.3f] %s' % (name, score, s_scores))"
   ]
  },
  {
   "cell_type": "code",
   "execution_count": 157,
   "metadata": {},
   "outputs": [],
   "source": [
    "def get_models(models=dict()):\n",
    "    models['lr'] = LinearRegression()\n",
    "    models['lasso'] = Lasso()\n",
    "    models['ridge'] = Ridge()\n",
    "    models['en'] = ElasticNet()\n",
    "    models['huber'] = HuberRegressor()\n",
    "    models['lars'] = Lars()\n",
    "    models['llars'] = LassoLars()\n",
    "#     models['pa'] = PassiveAggressiveRegressor(max_iter=1000, tol=1e-3)\n",
    "    models['ranscac'] = RANSACRegressor()\n",
    "#     models['sgd'] = SGDRegressor(max_iter=1000, tol=1e-3)\n",
    "    return models"
   ]
  },
  {
   "cell_type": "code",
   "execution_count": 158,
   "metadata": {},
   "outputs": [],
   "source": [
    "def make_pipeline(model):\n",
    "    steps = list()\n",
    "#     steps.append(('standardize', StandardScaler()))\n",
    "#     steps.append(('normalize', MinMaxScaler()))\n",
    "    steps.append(('model', model))\n",
    "    pipeline = Pipeline(steps=steps)\n",
    "    return pipeline"
   ]
  },
  {
   "cell_type": "code",
   "execution_count": 159,
   "metadata": {},
   "outputs": [],
   "source": [
    "def forecast(model, input_x, n_input):\n",
    "    yhat_sequence = list()\n",
    "    input_data = [x for x in input_x]\n",
    "    for j in range(7):\n",
    "        X = array(input_data[-n_input:]).reshape(1, n_input)\n",
    "        yhat = model.predict(X)[0]\n",
    "        yhat_sequence.append(yhat)\n",
    "        input_data.append(yhat)\n",
    "#     print(len(yhat_sequence))\n",
    "    return yhat_sequence"
   ]
  },
  {
   "cell_type": "code",
   "execution_count": 160,
   "metadata": {},
   "outputs": [],
   "source": [
    "def to_series(data):\n",
    "    series = [week[:, 0] for week in data]\n",
    "    series = array(series).flatten()\n",
    "    return series"
   ]
  },
  {
   "cell_type": "code",
   "execution_count": 161,
   "metadata": {},
   "outputs": [],
   "source": [
    "def to_supervised(history, n_input):\n",
    "    data = to_series(history)\n",
    "    X, y = list(), list()\n",
    "    ix_start = 0\n",
    "    for i in range(len(data)):\n",
    "        ix_end = ix_start + n_input\n",
    "        if ix_end < len(data):\n",
    "            X.append(data[ix_start:ix_end])\n",
    "            y.append(data[ix_end])\n",
    "        ix_start += 1\n",
    "    return array(X), array(y)"
   ]
  },
  {
   "cell_type": "code",
   "execution_count": 162,
   "metadata": {},
   "outputs": [],
   "source": [
    "def sklearn_predict(model, history, n_input):\n",
    "    train_x, train_y = to_supervised(history, n_input)\n",
    "    pipeline = make_pipeline(model)\n",
    "    pipeline.fit(train_x, train_y)\n",
    "    yhat_sequence = forecast(pipeline, train_x[-1, :], n_input)\n",
    "    return yhat_sequence"
   ]
  },
  {
   "cell_type": "code",
   "execution_count": 163,
   "metadata": {},
   "outputs": [],
   "source": [
    "def evaluate_model(model, train, test, n_input):\n",
    "    history = [x for x in train]\n",
    "    predictions = list()\n",
    "    for i in range(len(test)):\n",
    "        yhat_sequence = sklearn_predict(model, history, n_input)\n",
    "        predictions.append(yhat_sequence)\n",
    "        history.append(test[i, :])\n",
    "    predictions = array(predictions)\n",
    "    score, scores = evaluate_forecasts(test[:, :, 0], predictions)\n",
    "    return score, scores"
   ]
  },
  {
   "cell_type": "code",
   "execution_count": 164,
   "metadata": {},
   "outputs": [],
   "source": [
    "train, test = split_data(final_daily.values)"
   ]
  },
  {
   "cell_type": "code",
   "execution_count": 165,
   "metadata": {},
   "outputs": [],
   "source": [
    "models = get_models()"
   ]
  },
  {
   "cell_type": "code",
   "execution_count": 166,
   "metadata": {},
   "outputs": [],
   "source": [
    "n_input = 7"
   ]
  },
  {
   "cell_type": "code",
   "execution_count": 167,
   "metadata": {},
   "outputs": [],
   "source": [
    "days = range(0,7)"
   ]
  },
  {
   "cell_type": "code",
   "execution_count": 168,
   "metadata": {},
   "outputs": [
    {
     "name": "stdout",
     "output_type": "stream",
     "text": [
      "lr: [5.018] 5.7, 5.4, 4.3, 4.5, 5.3, 5.2, 4.6\n",
      "lasso: [5.004] 5.7, 5.3, 4.3, 4.5, 5.3, 5.1, 4.6\n",
      "ridge: [5.018] 5.7, 5.4, 4.3, 4.5, 5.3, 5.2, 4.6\n",
      "en: [5.006] 5.6, 5.3, 4.3, 4.5, 5.3, 5.2, 4.6\n",
      "huber: [5.067] 5.7, 5.5, 4.2, 4.4, 5.5, 5.2, 4.7\n",
      "lars: [5.018] 5.7, 5.4, 4.3, 4.5, 5.3, 5.2, 4.6\n",
      "llars: [6.504] 7.4, 6.3, 6.5, 6.2, 6.5, 6.3, 6.1\n",
      "ranscac: [5.644] 5.7, 5.7, 4.6, 5.0, 6.1, 6.4, 5.7\n"
     ]
    },
    {
     "data": {
      "image/png": "[encoded data removed]",
      "text/plain": [
       "<Figure size 432x288 with 1 Axes>"
      ]
     },
     "metadata": {},
     "output_type": "display_data"
    }
   ],
   "source": [
    "for name, model in models.items():\n",
    "    score, scores = evaluate_model(model, train, test, n_input)\n",
    "    summarize_scores(name, score, scores)\n",
    "    pyplot.plot(days, scores, marker='o', label=name)"
   ]
  },
  {
   "cell_type": "code",
   "execution_count": 132,
   "metadata": {},
   "outputs": [
    {
     "name": "stdout",
     "output_type": "stream",
     "text": [
      "LinearRegression(copy_X=True, fit_intercept=True, n_jobs=None, normalize=False)\n",
      "Lasso(alpha=1.0, copy_X=True, fit_intercept=True, max_iter=1000,\n",
      "      normalize=False, positive=False, precompute=False, random_state=None,\n",
      "      selection='cyclic', tol=0.0001, warm_start=False)\n",
      "Ridge(alpha=1.0, copy_X=True, fit_intercept=True, max_iter=None,\n",
      "      normalize=False, random_state=None, solver='auto', tol=0.001)\n",
      "ElasticNet(alpha=1.0, copy_X=True, fit_intercept=True, l1_ratio=0.5,\n",
      "           max_iter=1000, normalize=False, positive=False, precompute=False,\n",
      "           random_state=None, selection='cyclic', tol=0.0001, warm_start=False)\n",
      "HuberRegressor(alpha=0.0001, epsilon=1.35, fit_intercept=True, max_iter=100,\n",
      "               tol=1e-05, warm_start=False)\n",
      "Lars(copy_X=True, eps=2.220446049250313e-16, fit_intercept=True, fit_path=True,\n",
      "     n_nonzero_coefs=500, normalize=True, positive=False, precompute='auto',\n",
      "     verbose=False)\n",
      "LassoLars(alpha=1.0, copy_X=True, eps=2.220446049250313e-16, fit_intercept=True,\n",
      "          fit_path=True, max_iter=500, normalize=True, positive=False,\n",
      "          precompute='auto', verbose=False)\n",
      "PassiveAggressiveRegressor(C=1.0, average=False, early_stopping=False,\n",
      "                           epsilon=0.1, fit_intercept=True,\n",
      "                           loss='epsilon_insensitive', max_iter=1000,\n",
      "                           n_iter_no_change=5, random_state=None, shuffle=True,\n",
      "                           tol=0.001, validation_fraction=0.1, verbose=0,\n",
      "                           warm_start=False)\n",
      "RANSACRegressor(base_estimator=None, is_data_valid=None, is_model_valid=None,\n",
      "                loss='absolute_loss', max_skips=inf, max_trials=100,\n",
      "                min_samples=None, random_state=None, residual_threshold=None,\n",
      "                stop_n_inliers=inf, stop_probability=0.99, stop_score=inf)\n",
      "SGDRegressor(alpha=0.0001, average=False, early_stopping=False, epsilon=0.1,\n",
      "             eta0=0.01, fit_intercept=True, l1_ratio=0.15,\n",
      "             learning_rate='invscaling', loss='squared_loss', max_iter=1000,\n",
      "             n_iter_no_change=5, penalty='l2', power_t=0.25, random_state=None,\n",
      "             shuffle=True, tol=0.001, validation_fraction=0.1, verbose=0,\n",
      "             warm_start=False)\n"
     ]
    }
   ],
   "source": [
    "for name, model in models.items():\n",
    "    print(model)"
   ]
  },
  {
   "cell_type": "code",
   "execution_count": null,
   "metadata": {},
   "outputs": [],
   "source": []
  }
 ],
 "metadata": {
  "kernelspec": {
   "display_name": "Python 3",
   "language": "python",
   "name": "python3"
  },
  "language_info": {
   "codemirror_mode": {
    "name": "ipython",
    "version": 3
   },
   "file_extension": ".py",
   "mimetype": "text/x-python",
   "name": "python",
   "nbconvert_exporter": "python",
   "pygments_lexer": "ipython3",
   "version": "3.6.5"
  }
 },
 "nbformat": 4,
 "nbformat_minor": 2
}
