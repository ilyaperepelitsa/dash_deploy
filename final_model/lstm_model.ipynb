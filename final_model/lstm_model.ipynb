{
 "cells": [
  {
   "cell_type": "code",
   "execution_count": 1,
   "metadata": {},
   "outputs": [
    {
     "name": "stderr",
     "output_type": "stream",
     "text": [
      "Using TensorFlow backend.\n"
     ]
    }
   ],
   "source": [
    "# from statsmodels.tsa.seasonal import seasonal_decompose\n",
    "# from statsmodels.tsa.arima_model import ARIMA\n",
    "import pandas as pd\n",
    "import numpy as np\n",
    "from matplotlib import pyplot as plt\n",
    "\n",
    "import keras\n",
    "from keras.layers import Dense\n",
    "from keras.models import Sequential\n",
    "from keras.utils import to_categorical\n",
    "from keras.optimizers import SGD \n",
    "from keras.callbacks import EarlyStopping\n",
    "from keras.utils import np_utils\n",
    "import itertools\n",
    "from keras.layers import LSTM\n",
    "from keras.layers.convolutional import Conv1D\n",
    "from keras.layers.convolutional import MaxPooling1D\n",
    "from keras.layers import Dropout\n",
    "\n",
    "from sklearn.preprocessing import MinMaxScaler"
   ]
  },
  {
   "cell_type": "code",
   "execution_count": 2,
   "metadata": {},
   "outputs": [],
   "source": [
    "final_daily = pd.read_csv('/floyd/input/electric_lstm/final_daily.csv')\n",
    "final_daily['Datetime'] = pd.to_datetime(final_daily.loc[:,'Datetime'], infer_datetime_format=True)\n",
    "final_daily = final_daily.set_index('Datetime')"
   ]
  },
  {
   "cell_type": "code",
   "execution_count": 3,
   "metadata": {},
   "outputs": [],
   "source": [
    "def transform_dataset(data_in, n_in=1, n_out=1, dropnan=True):\n",
    "    n_vars = 1 if type(data_in) is list else data_in.shape[1]\n",
    "    dff = pd.DataFrame(data_in)\n",
    "    cols, names = list(), list()\n",
    "    for i in range(n_in, 0, -1):\n",
    "        cols.append(dff.shift(i))\n",
    "        names += [('%s(t-%d)' % (data_in.columns[j], i)) for j in range(n_vars)]\n",
    "    for i in range(0, n_out):\n",
    "        cols.append(dff[\"Global_active_power\"].shift(-i))\n",
    "        if i != 0:\n",
    "            names.append(\"Global_active_power(t+%d)\" % i)\n",
    "        else:\n",
    "            names.append(\"Global_active_power(t)\")\n",
    "    data_out = pd.concat(cols, axis=1)\n",
    "    data_out.columns = names\n",
    "    data_out.dropna(inplace=True)\n",
    "    return data_out"
   ]
  },
  {
   "cell_type": "code",
   "execution_count": 13,
   "metadata": {},
   "outputs": [
    {
     "name": "stdout",
     "output_type": "stream",
     "text": [
      "MSE 29.309248 dropped 6 lag 1 drop 0.100000 shape 8\n",
      "MSE 29.060083 dropped 6 lag 1 drop 0.400000 shape 8\n",
      "MSE 28.271880 dropped 6 lag 1 drop 0.700000 shape 8\n",
      "MSE 34.829564 dropped 5 lag 1 drop 0.100000 shape 9\n",
      "MSE 34.532500 dropped 5 lag 1 drop 0.400000 shape 9\n",
      "MSE 33.607731 dropped 5 lag 1 drop 0.700000 shape 9\n",
      "MSE 34.017000 dropped 4 lag 1 drop 0.100000 shape 10\n",
      "MSE 33.814788 dropped 4 lag 1 drop 0.400000 shape 10\n",
      "MSE 32.902354 dropped 4 lag 1 drop 0.700000 shape 10\n",
      "MSE 29.827248 dropped 3 lag 1 drop 0.100000 shape 11\n",
      "MSE 29.561913 dropped 3 lag 1 drop 0.400000 shape 11\n",
      "MSE 28.858967 dropped 3 lag 1 drop 0.700000 shape 11\n",
      "MSE 30.028594 dropped 2 lag 1 drop 0.100000 shape 12\n",
      "MSE 29.857597 dropped 2 lag 1 drop 0.400000 shape 12\n",
      "MSE 29.239877 dropped 2 lag 1 drop 0.700000 shape 12\n",
      "MSE 30.616455 dropped 1 lag 1 drop 0.100000 shape 13\n",
      "MSE 30.530259 dropped 1 lag 1 drop 0.400000 shape 13\n",
      "MSE 29.742208 dropped 1 lag 1 drop 0.700000 shape 13\n",
      "MSE 23.571576 dropped 6 lag 6 drop 0.100000 shape 13\n",
      "MSE 23.566590 dropped 6 lag 6 drop 0.400000 shape 13\n",
      "MSE 23.546479 dropped 6 lag 6 drop 0.700000 shape 13\n",
      "MSE 25.776281 dropped 5 lag 6 drop 0.100000 shape 19\n",
      "MSE 25.765873 dropped 5 lag 6 drop 0.400000 shape 19\n",
      "MSE 25.494911 dropped 5 lag 6 drop 0.700000 shape 19\n",
      "MSE 23.662506 dropped 4 lag 6 drop 0.100000 shape 25\n",
      "MSE 23.664771 dropped 4 lag 6 drop 0.400000 shape 25\n",
      "MSE 23.530266 dropped 4 lag 6 drop 0.700000 shape 25\n",
      "MSE 22.677489 dropped 3 lag 6 drop 0.100000 shape 31\n",
      "MSE 22.596315 dropped 3 lag 6 drop 0.400000 shape 31\n",
      "MSE 22.654493 dropped 3 lag 6 drop 0.700000 shape 31\n",
      "MSE 22.818735 dropped 2 lag 6 drop 0.100000 shape 37\n",
      "MSE 22.844056 dropped 2 lag 6 drop 0.400000 shape 37\n",
      "MSE 22.861604 dropped 2 lag 6 drop 0.700000 shape 37\n",
      "MSE 22.902381 dropped 1 lag 6 drop 0.100000 shape 43\n",
      "MSE 22.848179 dropped 1 lag 6 drop 0.400000 shape 43\n",
      "MSE 22.962431 dropped 1 lag 6 drop 0.700000 shape 43\n",
      "MSE 24.669960 dropped 6 lag 11 drop 0.100000 shape 18\n",
      "MSE 24.674929 dropped 6 lag 11 drop 0.400000 shape 18\n",
      "MSE 24.759966 dropped 6 lag 11 drop 0.700000 shape 18\n",
      "MSE 25.268458 dropped 5 lag 11 drop 0.100000 shape 29\n",
      "MSE 25.270252 dropped 5 lag 11 drop 0.400000 shape 29\n",
      "MSE 25.344197 dropped 5 lag 11 drop 0.700000 shape 29\n",
      "MSE 21.821743 dropped 4 lag 11 drop 0.100000 shape 40\n",
      "MSE 21.864517 dropped 4 lag 11 drop 0.400000 shape 40\n",
      "MSE 21.926220 dropped 4 lag 11 drop 0.700000 shape 40\n",
      "MSE 21.718894 dropped 3 lag 11 drop 0.100000 shape 51\n",
      "MSE 21.649647 dropped 3 lag 11 drop 0.400000 shape 51\n",
      "MSE 21.923705 dropped 3 lag 11 drop 0.700000 shape 51\n",
      "MSE 21.898087 dropped 2 lag 11 drop 0.100000 shape 62\n",
      "MSE 21.929662 dropped 2 lag 11 drop 0.400000 shape 62\n",
      "MSE 22.086497 dropped 2 lag 11 drop 0.700000 shape 62\n",
      "MSE 22.066304 dropped 1 lag 11 drop 0.100000 shape 73\n",
      "MSE 22.116699 dropped 1 lag 11 drop 0.400000 shape 73\n",
      "MSE 22.214067 dropped 1 lag 11 drop 0.700000 shape 73\n",
      "MSE 26.726861 dropped 6 lag 16 drop 0.100000 shape 23\n",
      "MSE 26.748488 dropped 6 lag 16 drop 0.400000 shape 23\n",
      "MSE 26.946210 dropped 6 lag 16 drop 0.700000 shape 23\n",
      "MSE 26.067804 dropped 5 lag 16 drop 0.100000 shape 39\n",
      "MSE 26.462256 dropped 5 lag 16 drop 0.400000 shape 39\n",
      "MSE 26.610095 dropped 5 lag 16 drop 0.700000 shape 39\n",
      "MSE 22.071607 dropped 4 lag 16 drop 0.100000 shape 55\n",
      "MSE 22.079627 dropped 4 lag 16 drop 0.400000 shape 55\n",
      "MSE 22.069371 dropped 4 lag 16 drop 0.700000 shape 55\n",
      "MSE 21.716739 dropped 3 lag 16 drop 0.100000 shape 71\n",
      "MSE 21.959135 dropped 3 lag 16 drop 0.400000 shape 71\n",
      "MSE 22.110817 dropped 3 lag 16 drop 0.700000 shape 71\n",
      "MSE 21.979333 dropped 2 lag 16 drop 0.100000 shape 87\n",
      "MSE 22.006561 dropped 2 lag 16 drop 0.400000 shape 87\n",
      "MSE 22.166824 dropped 2 lag 16 drop 0.700000 shape 87\n",
      "MSE 21.972153 dropped 1 lag 16 drop 0.100000 shape 103\n",
      "MSE 21.872111 dropped 1 lag 16 drop 0.400000 shape 103\n",
      "MSE 22.304998 dropped 1 lag 16 drop 0.700000 shape 103\n",
      "MSE 27.596296 dropped 6 lag 21 drop 0.100000 shape 28\n",
      "MSE 27.556948 dropped 6 lag 21 drop 0.400000 shape 28\n",
      "MSE 27.666875 dropped 6 lag 21 drop 0.700000 shape 28\n",
      "MSE 26.086310 dropped 5 lag 21 drop 0.100000 shape 49\n",
      "MSE 25.729141 dropped 5 lag 21 drop 0.400000 shape 49\n",
      "MSE 25.665102 dropped 5 lag 21 drop 0.700000 shape 49\n",
      "MSE 21.984827 dropped 4 lag 21 drop 0.100000 shape 70\n",
      "MSE 22.150671 dropped 4 lag 21 drop 0.400000 shape 70\n",
      "MSE 22.271649 dropped 4 lag 21 drop 0.700000 shape 70\n",
      "MSE 21.583171 dropped 3 lag 21 drop 0.100000 shape 91\n",
      "MSE 21.762827 dropped 3 lag 21 drop 0.400000 shape 91\n",
      "MSE 22.024669 dropped 3 lag 21 drop 0.700000 shape 91\n",
      "MSE 21.785890 dropped 2 lag 21 drop 0.100000 shape 112\n",
      "MSE 21.985581 dropped 2 lag 21 drop 0.400000 shape 112\n",
      "MSE 21.830239 dropped 2 lag 21 drop 0.700000 shape 112\n",
      "MSE 21.708758 dropped 1 lag 21 drop 0.100000 shape 133\n",
      "MSE 21.662675 dropped 1 lag 21 drop 0.400000 shape 133\n",
      "MSE 21.809912 dropped 1 lag 21 drop 0.700000 shape 133\n",
      "MSE 28.298780 dropped 6 lag 26 drop 0.100000 shape 33\n",
      "MSE 28.220416 dropped 6 lag 26 drop 0.400000 shape 33\n",
      "MSE 28.159616 dropped 6 lag 26 drop 0.700000 shape 33\n",
      "MSE 25.171448 dropped 5 lag 26 drop 0.100000 shape 59\n",
      "MSE 25.288451 dropped 5 lag 26 drop 0.400000 shape 59\n",
      "MSE 25.100432 dropped 5 lag 26 drop 0.700000 shape 59\n",
      "MSE 21.910567 dropped 4 lag 26 drop 0.100000 shape 85\n",
      "MSE 21.958388 dropped 4 lag 26 drop 0.400000 shape 85\n",
      "MSE 22.193474 dropped 4 lag 26 drop 0.700000 shape 85\n",
      "MSE 21.701449 dropped 3 lag 26 drop 0.100000 shape 111\n",
      "MSE 21.826348 dropped 3 lag 26 drop 0.400000 shape 111\n",
      "MSE 21.454304 dropped 3 lag 26 drop 0.700000 shape 111\n",
      "MSE 21.852382 dropped 2 lag 26 drop 0.100000 shape 137\n",
      "MSE 21.902523 dropped 2 lag 26 drop 0.400000 shape 137\n",
      "MSE 21.926412 dropped 2 lag 26 drop 0.700000 shape 137\n",
      "MSE 21.774907 dropped 1 lag 26 drop 0.100000 shape 163\n",
      "MSE 21.801289 dropped 1 lag 26 drop 0.400000 shape 163\n",
      "MSE 21.736934 dropped 1 lag 26 drop 0.700000 shape 163\n"
     ]
    }
   ],
   "source": [
    "from sklearn.metrics import mean_squared_error\n",
    "model_list_2 = []\n",
    "for lag_size in range(1, 30, 5):\n",
    "    for i, x in enumerate(final_daily.columns[1:]):\n",
    "        \n",
    "        cols_to_drop = list(final_daily.columns[1:][i : len(final_daily.columns[1:])])\n",
    "        reframed = transform_dataset(final_daily.drop(cols_to_drop, axis = 1), lag_size, 7)\n",
    "        values = reframed.values\n",
    "\n",
    "        n_train_time = 210\n",
    "        train = values[:-n_train_time, :]\n",
    "        test = values[-n_train_time:,:]\n",
    "\n",
    "        train_X, train_y = train[:, :-7], train[:, -7:]\n",
    "        test_X, test_y = test[:, :-7], test[:, -7:]\n",
    "        \n",
    "        scaler = MinMaxScaler(feature_range=(0, 1))\n",
    "        train_X = scaler.fit_transform(train_X)\n",
    "        test_X = scaler.transform(test_X)\n",
    "\n",
    "        train_X = train_X.reshape((train_X.shape[0], 1, train_X.shape[1]))\n",
    "        test_X = test_X.reshape((test_X.shape[0], 1, test_X.shape[1]))\n",
    "        \n",
    "        for dropout in np.arange(0.1, 1, 0.3):\n",
    "            model = Sequential()\n",
    "            model.add(LSTM(150, input_shape=(train_X.shape[1], train_X.shape[2])))\n",
    "            model.add(Dropout(dropout))\n",
    "            model.add(Dense(7))\n",
    "            model.compile(loss='mean_squared_error', optimizer='adam')\n",
    "            history = model.fit(train_X, train_y, \n",
    "                                epochs=200, batch_size=200, \n",
    "                                validation_data=(test_X, test_y), verbose=0, shuffle=False)\n",
    "\n",
    "            yhat = model.predict(test_X)\n",
    "            avg_7_mse = mean_squared_error(test_y, yhat, multioutput='raw_values')\n",
    "            avg_mse = mean_squared_error(test_y, yhat)\n",
    "            print(\"MSE %f dropped %d lag %d drop %f shape %d\" % (avg_mse, len(cols_to_drop), lag_size,dropout, values.shape[1]))\n",
    "    \n",
    "            params = dict()\n",
    "            params['n_drop'] = len(cols_to_drop)\n",
    "            params['cols_drop'] = cols_to_drop\n",
    "            params['lag_size'] = lag_size\n",
    "            params['model'] = model\n",
    "            params['history'] = history\n",
    "            params['scaler'] = scaler\n",
    "            params['avg_mse'] = avg_mse\n",
    "            params['avg_7_mse'] = avg_7_mse\n",
    "            params['dropout'] = dropout\n",
    "            \n",
    "\n",
    "            model_list_2.append(params)\n",
    "        "
   ]
  },
  {
   "cell_type": "code",
   "execution_count": 16,
   "metadata": {},
   "outputs": [],
   "source": [
    "model_list_2.sort(key = lambda x: x['avg_mse'])"
   ]
  },
  {
   "cell_type": "code",
   "execution_count": 45,
   "metadata": {},
   "outputs": [
    {
     "data": {
      "text/plain": [
       "['final_model/history.joblib']"
      ]
     },
     "execution_count": 45,
     "metadata": {},
     "output_type": "execute_result"
    }
   ],
   "source": [
    "check_model = model_list_2[0]\n",
    "\n",
    "from joblib import dump, load\n",
    "dump(check_model['model'], 'final_model/model.joblib')\n",
    "dump(check_model['scaler'], 'final_model/scaler.joblib')\n",
    "dump(check_model['history'], 'final_model/history.joblib')\n"
   ]
  },
  {
   "cell_type": "code",
   "execution_count": 18,
   "metadata": {},
   "outputs": [
    {
     "data": {
      "image/png": "[encoded data removed]",
      "text/plain": [
       "<Figure size 432x288 with 1 Axes>"
      ]
     },
     "metadata": {
      "needs_background": "light"
     },
     "output_type": "display_data"
    }
   ],
   "source": [
    "plt.plot(check_model['history'].history['loss'])\n",
    "plt.plot(check_model['history'].history['val_loss'])\n",
    "plt.title('model loss')\n",
    "plt.ylabel('loss')\n",
    "plt.xlabel('epoch')\n",
    "plt.legend(['train', 'test'], loc='upper right')\n",
    "plt.show()"
   ]
  },
  {
   "cell_type": "code",
   "execution_count": 19,
   "metadata": {},
   "outputs": [],
   "source": [
    "pd.DataFrame([{'n_drop': i['n_drop'],\n",
    " 'cols_drop': i['cols_drop'], \n",
    " 'lag_size': i['lag_size'], \n",
    " 'avg_mse': i['avg_mse'],\n",
    " 'avg_7_mse': i['avg_7_mse'],\n",
    " 'dropout': i['dropout']} for i in model_list_2]).to_csv(\"scores_final.csv\")"
   ]
  },
  {
   "cell_type": "code",
   "execution_count": 46,
   "metadata": {},
   "outputs": [],
   "source": [
    "# model_list_labeled = old_list.copy()\n",
    "df_scores = []\n",
    "for index, i in enumerate(model_list_2):\n",
    "    df_scores.append(pd.DataFrame({\"train\" : i['history'].history['loss'],\n",
    "                     \"test\" : i['history'].history['val_loss'],\n",
    "                     \"train\" : i['history'].history['loss'],\n",
    "                     \"mse\" : i[\"avg_mse\"],\n",
    "                     \"id\" : index,\n",
    "                     \"row\" : range(0, len(i['history'].history['val_loss']))}))"
   ]
  },
  {
   "cell_type": "code",
   "execution_count": 47,
   "metadata": {},
   "outputs": [],
   "source": [
    "pd.concat(df_scores).to_csv(\"model_scores.csv\")"
   ]
  },
  {
   "cell_type": "code",
   "execution_count": 44,
   "metadata": {},
   "outputs": [],
   "source": [
    "for index, check_model in enumerate(model_list_2):\n",
    "    data = transform_dataset(final_daily.drop(check_model['cols_drop'], axis = 1), check_model['lag_size'], 1)\n",
    "    test_X, test_y = data.values[:, :-1], data.values[:, -1:]\n",
    "\n",
    "    scaler = check_model['scaler']\n",
    "    test_X = scaler.transform(test_X)\n",
    "\n",
    "    test_X = test_X.reshape((test_X.shape[0], 1, test_X.shape[1]))\n",
    "    model = check_model['model']\n",
    "    yhat = model.predict(test_X)\n",
    "    pd.DataFrame({\"y_hat\" : yhat[:,0], 'y_true' : test_y.flatten()}, index = data.index).\\\n",
    "        to_csv('all_models/%d_model_est.csv' % index)\n"
   ]
  },
  {
   "cell_type": "code",
   "execution_count": 55,
   "metadata": {},
   "outputs": [],
   "source": [
    "check_model = model_list_2[0]\n",
    "data = transform_dataset(final_daily.drop(check_model['cols_drop'], axis = 1), check_model['lag_size'], 0)\n",
    "test_X = data.values\n",
    "\n",
    "scaler = check_model['scaler']\n",
    "test_X = scaler.transform(test_X)\n",
    "\n",
    "test_X = test_X.reshape((test_X.shape[0], 1, test_X.shape[1]))\n",
    "model = check_model['model']\n",
    "yhat = model.predict(test_X)\n",
    "pd.Series(yhat[-1]).to_csv('final_model/final_prediction.csv')"
   ]
  }
 ],
 "metadata": {
  "kernelspec": {
   "display_name": "Python 3",
   "language": "python",
   "name": "python3"
  },
  "language_info": {
   "codemirror_mode": {
    "name": "ipython",
    "version": 3
   },
   "file_extension": ".py",
   "mimetype": "text/x-python",
   "name": "python",
   "nbconvert_exporter": "python",
   "pygments_lexer": "ipython3",
   "version": "3.6.5"
  }
 },
 "nbformat": 4,
 "nbformat_minor": 2
}
